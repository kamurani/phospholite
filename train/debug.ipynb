{
 "cells": [
  {
   "cell_type": "code",
   "execution_count": 1,
   "metadata": {},
   "outputs": [],
   "source": [
    "# Autoreload \n",
    "%load_ext autoreload\n",
    "%autoreload 2\n"
   ]
  },
  {
   "cell_type": "code",
   "execution_count": 13,
   "metadata": {},
   "outputs": [],
   "source": [
    "import glob\n",
    "import re\n",
    "import time\n",
    "\n",
    "import os\n",
    "os.environ['CUDA_LAUNCH_BLOCKING'] = \"1\"\n",
    "import torch \n",
    "import numpy as np\n",
    "import pandas as pd\n",
    "import pytorch_lightning as pl\n",
    "from pytorch_lightning.utilities.types import EVAL_DATALOADERS, STEP_OUTPUT\n",
    "import torch_geometric \n",
    "\n",
    "import torch.nn as nn\n",
    "import torch.nn.functional as F\n",
    "\n",
    "\n",
    "from typing import Dict, List, Union\n",
    "from pathlib import Path\n",
    "from functools import reduce\n",
    "from pytorch_lightning import Trainer\n",
    "from torch.utils.data import DataLoader, Dataset\n",
    "from pytorch_lightning.callbacks import StochasticWeightAveraging, EarlyStopping, ModelCheckpoint\n",
    "\n",
    "from phospholite import SAVED_MODEL_DIR, DATASET_DIR\n",
    "from phospholite.model import PhosphoGAT\n",
    "from phospholite.ml import get_dataloader_split\n",
    "from phospholite.ml.dataset import PhosphositeGraphDataset \n",
    "from phospholite.utils.io import load_index_dict\n",
    "from phospholite import INDEX_DICT_PATH"
   ]
  },
  {
   "cell_type": "code",
   "execution_count": 3,
   "metadata": {},
   "outputs": [],
   "source": [
    "dataset_root_dir =  DATASET_DIR / \"protein_graph_dataset\"\n",
    "root_dir = dataset_root_dir\n",
    "\n"
   ]
  },
  {
   "cell_type": "code",
   "execution_count": 43,
   "metadata": {},
   "outputs": [
    {
     "name": "stdout",
     "output_type": "stream",
     "text": [
      "Using 17067 processed files.\n",
      "PhosphositeGraphDataset(17063)\n"
     ]
    }
   ],
   "source": [
    "verbose = True\n",
    "processed_filenames = [Path(a).stem for a in glob.glob(str(root_dir / \"processed\" / \"*.pt\"))]\n",
    "if verbose: print(f\"Using {len(processed_filenames)} processed files.\")\n",
    "\n",
    "from graphein.protein.config import ProteinGraphConfig\n",
    "from graphein.protein.edges.distance import add_distance_threshold\n",
    "from functools import partial\n",
    "\n",
    "long_interaction_threshold = 5 # seq positions \n",
    "edge_threshold_distance = 6.0 # Å\n",
    "new_edge_funcs = {\"edge_construction_functions\": [\n",
    "    partial(\n",
    "    add_distance_threshold, long_interaction_threshold=long_interaction_threshold, threshold=edge_threshold_distance)\n",
    "]}\n",
    "config = ProteinGraphConfig(\n",
    "    granularity=\"CA\",\n",
    "    **new_edge_funcs,\n",
    ")\n",
    "from graphein.ml.conversion import GraphFormatConvertor\n",
    "\n",
    "columns = [\n",
    "    \"b_factor\",\n",
    "    \"name\",\n",
    "    \"edge_index\",\n",
    "    \"x\", # T5 per-residue embedding\n",
    "]\n",
    "convertor = GraphFormatConvertor(\n",
    "    src_format=\"nx\", dst_format=\"pyg\", verbose=\"gnn\",\n",
    "    columns=columns,\n",
    ")\n",
    "\n",
    "# List of functions that consume a nx.Graph and return a nx.Graph. Applied to graphs after construction but before conversion to pyg\n",
    "#from phosphosite.graphs.pyg import add_per_residue_embedding\n",
    "graph_transforms = [\n",
    "    #add_per_residue_embedding,\n",
    "]\n",
    "\n",
    "indexes_dict = load_index_dict(filepath=INDEX_DICT_PATH)\n",
    "\n",
    "kwargs = dict(\n",
    "    root=root_dir,\n",
    "    graphein_config=config, \n",
    "    graph_transformation_funcs=graph_transforms,\n",
    "    graph_format_convertor=convertor,\n",
    "    pre_transform=None, # before saved to disk , after PyG conversion \n",
    "    pre_filter=None,    # whether it will be in final dataset\n",
    ")\n",
    "uniprot_ids_to_use = [u for u in processed_filenames if u in indexes_dict.keys()]\n",
    "ds = PhosphositeGraphDataset(\n",
    "    uniprot_ids=uniprot_ids_to_use,\n",
    "    y_label_map=indexes_dict,\n",
    "    **kwargs,\n",
    ")\n",
    "if verbose: print(ds)\n",
    "\n",
    "train_loader, valid_loader, test_loader = get_dataloader_split(\n",
    "    ds, batch_size=32, train_batch_size=32,\n",
    "    #num_workers=num_workers,\n",
    ")"
   ]
  },
  {
   "cell_type": "code",
   "execution_count": 44,
   "metadata": {},
   "outputs": [
    {
     "data": {
      "text/plain": [
       "342"
      ]
     },
     "execution_count": 44,
     "metadata": {},
     "output_type": "execute_result"
    }
   ],
   "source": [
    "len(train_loader)"
   ]
  },
  {
   "cell_type": "code",
   "execution_count": 6,
   "metadata": {},
   "outputs": [],
   "source": [
    "dropout = 0.1 \n",
    "batch_size = 64 # 100\n",
    "num_heads = 8 # 4 \n",
    "learning_rate = 0.001\n",
    "\n",
    "model = PhosphoGAT(\n",
    "    dropout=dropout,\n",
    "    batch_size=batch_size,\n",
    "    learning_rate=learning_rate,\n",
    ")"
   ]
  },
  {
   "cell_type": "code",
   "execution_count": 12,
   "metadata": {},
   "outputs": [
    {
     "ename": "NameError",
     "evalue": "name 'torch_geometric' is not defined",
     "output_type": "error",
     "traceback": [
      "\u001b[0;31m---------------------------------------------------------------------------\u001b[0m",
      "\u001b[0;31mNameError\u001b[0m                                 Traceback (most recent call last)",
      "\u001b[1;32m/home/cim/STRUCTURAL_MOTIFS/phospholite/train/debug.ipynb Cell 7\u001b[0m line \u001b[0;36m2\n\u001b[1;32m      <a href='vscode-notebook-cell:/home/cim/STRUCTURAL_MOTIFS/phospholite/train/debug.ipynb#X11sZmlsZQ%3D%3D?line=0'>1</a>\u001b[0m \u001b[39mfor\u001b[39;00m i, d \u001b[39min\u001b[39;00m \u001b[39menumerate\u001b[39m(ds):\n\u001b[0;32m----> <a href='vscode-notebook-cell:/home/cim/STRUCTURAL_MOTIFS/phospholite/train/debug.ipynb#X11sZmlsZQ%3D%3D?line=1'>2</a>\u001b[0m     \u001b[39mif\u001b[39;00m \u001b[39mnot\u001b[39;00m \u001b[39misinstance\u001b[39m(d, torch_geometric\u001b[39m.\u001b[39mdata\u001b[39m.\u001b[39mData):\n\u001b[1;32m      <a href='vscode-notebook-cell:/home/cim/STRUCTURAL_MOTIFS/phospholite/train/debug.ipynb#X11sZmlsZQ%3D%3D?line=2'>3</a>\u001b[0m         \u001b[39mprint\u001b[39m(i, d)\n\u001b[1;32m      <a href='vscode-notebook-cell:/home/cim/STRUCTURAL_MOTIFS/phospholite/train/debug.ipynb#X11sZmlsZQ%3D%3D?line=3'>4</a>\u001b[0m         \u001b[39mbreak\u001b[39;00m\n",
      "\u001b[0;31mNameError\u001b[0m: name 'torch_geometric' is not defined"
     ]
    }
   ],
   "source": [
    "for i, d in enumerate(ds):\n",
    "    if not isinstance(d, torch_geometric.data.Data):\n",
    "        print(i, d)\n",
    "        break\n"
   ]
  },
  {
   "cell_type": "code",
   "execution_count": 55,
   "metadata": {},
   "outputs": [
    {
     "data": {
      "text/plain": [
       "False"
      ]
     },
     "execution_count": 55,
     "metadata": {},
     "output_type": "execute_result"
    }
   ],
   "source": [
    "i = 118\n",
    "'Q8TBC3' in [d.name for d in ds[i*batch_size:(i+1)*batch_size]]"
   ]
  },
  {
   "cell_type": "code",
   "execution_count": 56,
   "metadata": {},
   "outputs": [
    {
     "ename": "KeyboardInterrupt",
     "evalue": "",
     "output_type": "error",
     "traceback": [
      "\u001b[0;31m---------------------------------------------------------------------------\u001b[0m",
      "\u001b[0;31mKeyboardInterrupt\u001b[0m                         Traceback (most recent call last)",
      "\u001b[1;32m/home/cim/STRUCTURAL_MOTIFS/phospholite/train/debug.ipynb Cell 9\u001b[0m line \u001b[0;36m1\n\u001b[0;32m----> <a href='vscode-notebook-cell:/home/cim/STRUCTURAL_MOTIFS/phospholite/train/debug.ipynb#X26sZmlsZQ%3D%3D?line=0'>1</a>\u001b[0m \u001b[39mfor\u001b[39;00m i, d \u001b[39min\u001b[39;00m \u001b[39menumerate\u001b[39m(ds): \n\u001b[1;32m      <a href='vscode-notebook-cell:/home/cim/STRUCTURAL_MOTIFS/phospholite/train/debug.ipynb#X26sZmlsZQ%3D%3D?line=1'>2</a>\u001b[0m     \u001b[39mif\u001b[39;00m \u001b[39m'\u001b[39m\u001b[39mQ8TBC3\u001b[39m\u001b[39m'\u001b[39m \u001b[39min\u001b[39;00m d\u001b[39m.\u001b[39mname:\n\u001b[1;32m      <a href='vscode-notebook-cell:/home/cim/STRUCTURAL_MOTIFS/phospholite/train/debug.ipynb#X26sZmlsZQ%3D%3D?line=2'>3</a>\u001b[0m         \u001b[39mbreak\u001b[39;00m\n",
      "File \u001b[0;32m~/anaconda3/envs/phosphosite_ml/lib/python3.9/site-packages/torch_geometric/data/dataset.py:258\u001b[0m, in \u001b[0;36mDataset.__getitem__\u001b[0;34m(self, idx)\u001b[0m\n\u001b[1;32m    248\u001b[0m \u001b[39m\u001b[39m\u001b[39mr\u001b[39m\u001b[39m\"\"\"In case :obj:`idx` is of type integer, will return the data object\u001b[39;00m\n\u001b[1;32m    249\u001b[0m \u001b[39mat index :obj:`idx` (and transforms it in case :obj:`transform` is\u001b[39;00m\n\u001b[1;32m    250\u001b[0m \u001b[39mpresent).\u001b[39;00m\n\u001b[1;32m    251\u001b[0m \u001b[39mIn case :obj:`idx` is a slicing object, *e.g.*, :obj:`[2:5]`, a list, a\u001b[39;00m\n\u001b[1;32m    252\u001b[0m \u001b[39mtuple, or a :obj:`torch.Tensor` or :obj:`np.ndarray` of type long or\u001b[39;00m\n\u001b[1;32m    253\u001b[0m \u001b[39mbool, will return a subset of the dataset at the specified indices.\"\"\"\u001b[39;00m\n\u001b[1;32m    254\u001b[0m \u001b[39mif\u001b[39;00m (\u001b[39misinstance\u001b[39m(idx, (\u001b[39mint\u001b[39m, np\u001b[39m.\u001b[39minteger))\n\u001b[1;32m    255\u001b[0m         \u001b[39mor\u001b[39;00m (\u001b[39misinstance\u001b[39m(idx, Tensor) \u001b[39mand\u001b[39;00m idx\u001b[39m.\u001b[39mdim() \u001b[39m==\u001b[39m \u001b[39m0\u001b[39m)\n\u001b[1;32m    256\u001b[0m         \u001b[39mor\u001b[39;00m (\u001b[39misinstance\u001b[39m(idx, np\u001b[39m.\u001b[39mndarray) \u001b[39mand\u001b[39;00m np\u001b[39m.\u001b[39misscalar(idx))):\n\u001b[0;32m--> 258\u001b[0m     data \u001b[39m=\u001b[39m \u001b[39mself\u001b[39;49m\u001b[39m.\u001b[39;49mget(\u001b[39mself\u001b[39;49m\u001b[39m.\u001b[39;49mindices()[idx])\n\u001b[1;32m    259\u001b[0m     data \u001b[39m=\u001b[39m data \u001b[39mif\u001b[39;00m \u001b[39mself\u001b[39m\u001b[39m.\u001b[39mtransform \u001b[39mis\u001b[39;00m \u001b[39mNone\u001b[39;00m \u001b[39melse\u001b[39;00m \u001b[39mself\u001b[39m\u001b[39m.\u001b[39mtransform(data)\n\u001b[1;32m    260\u001b[0m     \u001b[39mreturn\u001b[39;00m data\n",
      "File \u001b[0;32m~/STRUCTURAL_MOTIFS/phospholite/phospholite/ml/dataset.py:257\u001b[0m, in \u001b[0;36mPhosphositeGraphDataset.get\u001b[0;34m(self, idx)\u001b[0m\n\u001b[1;32m    249\u001b[0m \u001b[39m\u001b[39m\u001b[39m\"\"\"\u001b[39;00m\n\u001b[1;32m    250\u001b[0m \u001b[39mReturns PyTorch Geometric Data object for a given index.\u001b[39;00m\n\u001b[1;32m    251\u001b[0m \n\u001b[0;32m   (...)\u001b[0m\n\u001b[1;32m    254\u001b[0m \u001b[39m:return: PyTorch Geometric Data object.\u001b[39;00m\n\u001b[1;32m    255\u001b[0m \u001b[39m\"\"\"\u001b[39;00m\n\u001b[1;32m    256\u001b[0m uniprot_id \u001b[39m=\u001b[39m \u001b[39mself\u001b[39m\u001b[39m.\u001b[39muniprot_ids[idx]\n\u001b[0;32m--> 257\u001b[0m data \u001b[39m=\u001b[39m torch\u001b[39m.\u001b[39;49mload(\n\u001b[1;32m    258\u001b[0m     os\u001b[39m.\u001b[39;49mpath\u001b[39m.\u001b[39;49mjoin(\u001b[39mself\u001b[39;49m\u001b[39m.\u001b[39;49mprocessed_dir, \u001b[39mf\u001b[39;49m\u001b[39m\"\u001b[39;49m\u001b[39m{\u001b[39;49;00muniprot_id\u001b[39m}\u001b[39;49;00m\u001b[39m.pt\u001b[39;49m\u001b[39m\"\u001b[39;49m)\n\u001b[1;32m    259\u001b[0m )\n\u001b[1;32m    260\u001b[0m \u001b[39massert\u001b[39;00m uniprot_id \u001b[39m==\u001b[39m data\u001b[39m.\u001b[39mname, \u001b[39mf\u001b[39m\u001b[39m\"\u001b[39m\u001b[39mUniprot ID \u001b[39m\u001b[39m'\u001b[39m\u001b[39m{\u001b[39;00muniprot_id\u001b[39m}\u001b[39;00m\u001b[39m'\u001b[39m\u001b[39m does not match data.name \u001b[39m\u001b[39m'\u001b[39m\u001b[39m{\u001b[39;00mdata\u001b[39m.\u001b[39mname\u001b[39m}\u001b[39;00m\u001b[39m'\u001b[39m\u001b[39m at index \u001b[39m\u001b[39m{\u001b[39;00midx\u001b[39m}\u001b[39;00m\u001b[39m.\u001b[39m\u001b[39m\"\u001b[39m\n\u001b[1;32m    262\u001b[0m data\u001b[39m.\u001b[39my_index    \u001b[39m=\u001b[39m \u001b[39mself\u001b[39m\u001b[39m.\u001b[39my_label_map[uniprot_id][\u001b[39m\"\u001b[39m\u001b[39midx\u001b[39m\u001b[39m\"\u001b[39m]\n",
      "File \u001b[0;32m~/anaconda3/envs/phosphosite_ml/lib/python3.9/site-packages/torch/serialization.py:712\u001b[0m, in \u001b[0;36mload\u001b[0;34m(f, map_location, pickle_module, **pickle_load_args)\u001b[0m\n\u001b[1;32m    710\u001b[0m             opened_file\u001b[39m.\u001b[39mseek(orig_position)\n\u001b[1;32m    711\u001b[0m             \u001b[39mreturn\u001b[39;00m torch\u001b[39m.\u001b[39mjit\u001b[39m.\u001b[39mload(opened_file)\n\u001b[0;32m--> 712\u001b[0m         \u001b[39mreturn\u001b[39;00m _load(opened_zipfile, map_location, pickle_module, \u001b[39m*\u001b[39;49m\u001b[39m*\u001b[39;49mpickle_load_args)\n\u001b[1;32m    713\u001b[0m \u001b[39mreturn\u001b[39;00m _legacy_load(opened_file, map_location, pickle_module, \u001b[39m*\u001b[39m\u001b[39m*\u001b[39mpickle_load_args)\n",
      "File \u001b[0;32m~/anaconda3/envs/phosphosite_ml/lib/python3.9/site-packages/torch/serialization.py:1049\u001b[0m, in \u001b[0;36m_load\u001b[0;34m(zip_file, map_location, pickle_module, pickle_file, **pickle_load_args)\u001b[0m\n\u001b[1;32m   1047\u001b[0m unpickler \u001b[39m=\u001b[39m UnpicklerWrapper(data_file, \u001b[39m*\u001b[39m\u001b[39m*\u001b[39mpickle_load_args)\n\u001b[1;32m   1048\u001b[0m unpickler\u001b[39m.\u001b[39mpersistent_load \u001b[39m=\u001b[39m persistent_load\n\u001b[0;32m-> 1049\u001b[0m result \u001b[39m=\u001b[39m unpickler\u001b[39m.\u001b[39;49mload()\n\u001b[1;32m   1051\u001b[0m torch\u001b[39m.\u001b[39m_utils\u001b[39m.\u001b[39m_validate_loaded_sparse_tensors()\n\u001b[1;32m   1053\u001b[0m \u001b[39mreturn\u001b[39;00m result\n",
      "File \u001b[0;32m~/anaconda3/envs/phosphosite_ml/lib/python3.9/site-packages/torch/serialization.py:1019\u001b[0m, in \u001b[0;36m_load.<locals>.persistent_load\u001b[0;34m(saved_id)\u001b[0m\n\u001b[1;32m   1017\u001b[0m \u001b[39mif\u001b[39;00m key \u001b[39mnot\u001b[39;00m \u001b[39min\u001b[39;00m loaded_storages:\n\u001b[1;32m   1018\u001b[0m     nbytes \u001b[39m=\u001b[39m numel \u001b[39m*\u001b[39m torch\u001b[39m.\u001b[39m_utils\u001b[39m.\u001b[39m_element_size(dtype)\n\u001b[0;32m-> 1019\u001b[0m     load_tensor(dtype, nbytes, key, _maybe_decode_ascii(location))\n\u001b[1;32m   1021\u001b[0m \u001b[39mreturn\u001b[39;00m loaded_storages[key]\n",
      "File \u001b[0;32m~/anaconda3/envs/phosphosite_ml/lib/python3.9/site-packages/torch/serialization.py:997\u001b[0m, in \u001b[0;36m_load.<locals>.load_tensor\u001b[0;34m(dtype, numel, key, location)\u001b[0m\n\u001b[1;32m    994\u001b[0m \u001b[39mdef\u001b[39;00m \u001b[39mload_tensor\u001b[39m(dtype, numel, key, location):\n\u001b[1;32m    995\u001b[0m     name \u001b[39m=\u001b[39m \u001b[39mf\u001b[39m\u001b[39m'\u001b[39m\u001b[39mdata/\u001b[39m\u001b[39m{\u001b[39;00mkey\u001b[39m}\u001b[39;00m\u001b[39m'\u001b[39m\n\u001b[0;32m--> 997\u001b[0m     storage \u001b[39m=\u001b[39m zip_file\u001b[39m.\u001b[39;49mget_storage_from_record(name, numel, torch\u001b[39m.\u001b[39;49m_UntypedStorage)\u001b[39m.\u001b[39mstorage()\u001b[39m.\u001b[39m_untyped()\n\u001b[1;32m    998\u001b[0m     \u001b[39m# TODO: Once we decide to break serialization FC, we can\u001b[39;00m\n\u001b[1;32m    999\u001b[0m     \u001b[39m# stop wrapping with _TypedStorage\u001b[39;00m\n\u001b[1;32m   1000\u001b[0m     loaded_storages[key] \u001b[39m=\u001b[39m torch\u001b[39m.\u001b[39mstorage\u001b[39m.\u001b[39m_TypedStorage(\n\u001b[1;32m   1001\u001b[0m         wrap_storage\u001b[39m=\u001b[39mrestore_location(storage, location),\n\u001b[1;32m   1002\u001b[0m         dtype\u001b[39m=\u001b[39mdtype)\n",
      "\u001b[0;31mKeyboardInterrupt\u001b[0m: "
     ]
    }
   ],
   "source": [
    "for i, d in enumerate(ds): \n",
    "    if 'Q8TBC3' in d.name:\n",
    "        break"
   ]
  },
  {
   "cell_type": "code",
   "execution_count": null,
   "metadata": {},
   "outputs": [],
   "source": [
    "i"
   ]
  },
  {
   "cell_type": "code",
   "execution_count": 57,
   "metadata": {},
   "outputs": [],
   "source": [
    "# Manually loading in from files \n",
    "from torch import Tensor \n",
    "y_sparse = Tensor([1., 1., 1., 1., 1., 1., 1., 1., 1., 1., 1., 1., 1., 1., 1., 0., 0., 0.,\n",
    "        0., 0., 0., 0., 0., 0., 0., 0., 0., 0., 0., 0., 0., 0., 0., 0., 0., 0.,\n",
    "        0., 0., 0., 0., 0., 0., 1., 1., 1., 1., 1., 1., 0., 0., 0., 0., 0., 0.,\n",
    "        0., 0., 0., 1., 0., 0., 0., 0., 0., 1., 1., 1., 1., 1., 1., 1., 1., 1.,\n",
    "        1., 1., 1., 1., 1., 1., 1., 1., 1., 1., 1., 1., 1., 1., 1., 1., 1., 1.,\n",
    "        1., 1., 1., 1., 1., 1., 1., 1., 1., 1., 1., 1., 1., 1., 1., 1., 1., 1.,\n",
    "        1., 1., 1., 1., 1., 1., 1., 1., 1., 1., 1., 1., 1., 1., 1., 1., 1., 1.,\n",
    "        1., 1., 0., 0., 0., 0., 0., 0., 0., 0., 0., 0., 0., 0., 0., 0., 0., 0.,\n",
    "        0., 0., 0., 0., 0., 0., 0., 0., 0., 0., 0., 0., 1., 0., 0., 0., 0., 0.,\n",
    "        0., 1., 1., 1., 0., 0., 0., 0., 0., 0., 1., 1., 1., 1., 1., 1., 1., 1.,\n",
    "        1., 0., 0., 0., 0., 0., 0., 0., 0., 0., 0., 0., 0., 0., 0., 0., 1., 1.,\n",
    "        1., 1., 1., 1., 1., 1., 1., 1., 1., 1., 1., 1., 1., 1., 1., 1., 1., 1.,\n",
    "        1., 1., 1., 1., 1., 1., 1., 1., 1., 1., 1., 1., 1., 1., 1., 1., 1., 1.,\n",
    "        1., 1., 1., 1., 1., 1., 1., 1., 1., 1., 1., 1., 1., 1., 1., 1., 1., 1.,\n",
    "        1., 1., 1., 1., 0., 0., 0., 0., 0., 0., 0., 0., 0., 0., 0., 0., 0., 0.,\n",
    "        0., 0., 0., 0., 0., 0., 0., 0., 0., 0., 0., 0., 0., 0., 0., 0., 0., 0.,\n",
    "        0., 0., 1., 0., 0., 0., 0., 0., 0., 0., 0., 0., 0., 0., 0., 0., 0., 0.,\n",
    "        0., 0., 0., 1., 0., 0., 0., 0., 1., 1., 1., 0., 0., 0., 0., 0., 0., 0.,\n",
    "        0., 0., 0., 0., 0., 0., 0., 0., 0., 0., 0., 0., 0., 0., 0., 0., 0., 0.,\n",
    "        0., 1., 0., 0., 0., 0., 0., 0., 0., 0., 0., 0., 0., 0., 1., 1., 0., 0.,\n",
    "        0., 0., 0., 1., 1., 1., 1., 1., 1., 1., 1., 1., 1., 1., 1., 1., 1., 1.,\n",
    "        1., 1., 1., 1., 1., 1., 1., 1., 1., 1., 1., 1., 1., 1., 1., 1., 1., 1.,\n",
    "        1., 1., 0., 0., 0., 0., 0., 0., 0., 0., 0., 0., 0., 0., 0., 0., 0., 0.,\n",
    "        1., 1., 1., 1., 0., 0., 0., 0., 0., 0., 0., 0., 0., 0., 0., 0., 0., 0.,\n",
    "        1., 0., 0., 0., 0., 0., 0., 0., 1., 0., 0., 0., 0., 0., 0., 0., 0., 0.,\n",
    "        1., 1., 1., 1., 1., 1., 1., 1., 1., 0., 0., 0., 0., 0., 0., 0., 0., 0.,\n",
    "        0., 0., 0., 0., 0., 0., 0., 1., 1., 1., 1., 1., 1., 1., 1., 1., 1., 1.,\n",
    "        1., 1., 1., 1., 1., 1., 0., 0., 0., 0., 0., 0., 0., 0., 0., 0., 0., 0.,\n",
    "        0., 1., 1., 1., 1., 0., 0., 0., 0., 0., 0., 0., 0., 0., 0., 0., 0., 0.,\n",
    "        0., 0., 0., 0., 0., 0., 0., 0., 0., 1., 1., 1., 1., 1., 1., 1., 1., 1.,\n",
    "        1., 1., 1., 1., 1., 1., 1., 1., 1., 1., 1., 1., 1., 1., 1., 1., 1., 1.,\n",
    "        1., 1., 1., 1., 1., 1., 1., 1., 1., 1., 1., 1., 1., 1., 1., 1., 1., 1.,\n",
    "        1., 1., 1., 1., 1., 1., 1., 1., 1., 1., 1., 1., 1., 1., 1., 1., 1., 1.,\n",
    "        1., 1., 1., 1., 1., 1., 1., 1., 1., 1., 1., 1., 1., 1., 1., 1., 1., 1.,\n",
    "        1., 1., 1., 1., 1., 1., 0., 0., 0., 0., 0., 0., 0., 0., 0., 0., 0., 0.,\n",
    "        0., 0., 0., 0., 0., 0., 0., 0., 0., 0., 0., 0., 1., 1., 1., 1., 1., 1.,\n",
    "        1., 1., 1., 1., 1., 1., 1., 1., 0., 0., 0., 0., 0., 0., 0., 0., 0., 1.,\n",
    "        1., 1., 1., 1., 1., 1., 1., 0., 0., 0., 0., 0., 0., 0., 0., 0., 0., 0.,\n",
    "        1., 1., 1., 1., 1., 1., 1., 0., 0., 0., 0., 0., 0., 0., 0., 0., 0., 0.,\n",
    "        0., 0., 0., 0., 0., 0., 0., 0., 0., 1., 0., 0., 0., 0., 0., 0., 1., 1.,\n",
    "        1., 1., 1., 1., 1., 1., 1., 0., 0., 1., 1., 1., 0., 0., 0., 0., 0., 0.,\n",
    "        0., 0., 0., 0., 0., 0., 0., 0., 0., 0., 0., 0., 0., 0., 0., 0., 1., 0.,\n",
    "        0., 0., 0., 0., 0., 0., 0., 0., 0., 0., 1., 1., 1., 1., 1., 1., 1., 1.,\n",
    "        1., 1., 1., 1., 1., 1., 1., 1., 0., 0., 0., 0., 0., 0., 0., 0., 0., 0.,\n",
    "        0., 0., 0., 0., 0., 0., 1., 1., 1., 1., 1., 0., 0., 0., 0., 0., 0., 0.,\n",
    "        0., 0., 0., 0., 0., 0., 0., 0., 0., 0., 0., 0., 0., 0., 0., 0., 0., 0.,\n",
    "        0., 0., 0., 0., 1., 0., 0., 0., 0., 0., 0., 0., 0., 0., 0., 0., 0., 0.,\n",
    "        0., 0., 0., 0., 0., 0., 0., 0., 0., 0., 0., 0., 0., 0., 0., 1., 1., 1.,\n",
    "        1., 1., 1., 1., 1., 1., 1., 1.])\n",
    "\n",
    "y_index = Tensor([  143,   160,   184,   186,   623,   636,   639,   646,   648,   661,\n",
    "          162,   471,   681,   692,   695,   579,    92,   615,   612,     5,\n",
    "           12,   483,   535,   571,   621,   387,   552,    53,    54,   424,\n",
    "          346,   243,   456,    32,    31,   545,   433,   400,   329,   390,\n",
    "           42,   430,   721,   722,   725,   727,   735,   740,  1012,   823,\n",
    "          824,   816,   856,   851,  1005,   961,   924,  1093,  1069,  1076,\n",
    "         1105,  1097,  1084,  1149,  1152,  1155,  1187,  1205,  1208,  1211,\n",
    "         1214,  1235,  1236,  1244,  1256,  1265,  1274,  1462,  1481,  1543,\n",
    "         1548,  1550,  1589,  1594,  1617,  1662,  1666,  1672,  1684,  1750,\n",
    "         1769,  1842,  1858,  1892,  1897,  1918,  1960,  1965,  1969,  1970,\n",
    "         1973,  1974,  2033,  2051,  2053,  2112,  2130,  2145,  2161,  2166,\n",
    "         2237,  1153,  1217,  1238,  1277,  1379,  1557,  1657,  1658,  1663,\n",
    "         2012,  2013,  2139,  2141,  2058,  2125,  2160,  2702,  1998,  1982,\n",
    "         1984,  2002,  1996,  2004,  1713,  1987,  1361,  1781,  1362,  1993,\n",
    "         2382,  2540,  2327,  2587,  2487,  2464,  2763,  2457,  2419,  2670,\n",
    "         2500,  1930,  2394,  2370,  2435,  2483,  3021,  3011,  2999,  3199,\n",
    "         3099,  3082,  3032,  3410,  3448,  3465,  3526,  3391,  3529,  3243,\n",
    "         3244,  3349,  3727,  3789,  3790,  4068,  3867,  3696,  3710,  3712,\n",
    "         3714,  3826,  3580,  3918,  4052,  4047,  3908,  3607,  3645,  3646,\n",
    "         3673,  4061,  3734,  3806,  3556,  3872,  4161,  4168,  4176,  4179,\n",
    "         4182,  4200,  4202,  4205,  4206,  4218,  4224,  4236,  4271,  4346,\n",
    "         4352,  4353,  4356,  4382,  4409,  4452,  4465,  4478,  4583,  4586,\n",
    "         4587,  4604,  4692,  4864,  5194,  5305,  5624,  5636,  5642,  5652,\n",
    "         5681,  5690,  5703,  5798,  5804,  5807,  5817,  5824,  5826,  5994,\n",
    "         4341,  4350,  4357,  4423,  4456,  4477,  4486,  4560,  4617,  4826,\n",
    "         4948,  5286,  4233,  4466,  5626,  5966,  4574,  5562,  5360,  4802,\n",
    "         4695,  4815,  4873,  4797,  4955,  4849,  5127,  4998,  5082,  5335,\n",
    "         4368,  4363,  5869,  4370,  5896,  4293,  4501,  4671,  5319,  5104,\n",
    "         5418,  5488,  4938,  5067,  5213,  5103,  4644,  4871,  4756,  4652,\n",
    "         6057,  6258,  6313,  6184,  6176,  6233,  6029,  6030,  6360,  6035,\n",
    "         6348,  6045,  6031,  6356,  6026,  6209,  6118,  6192,  6351,  6540,\n",
    "         6388,  6383,  6372,  6419,  6693,  6849,  7007,  6899,  6906,  6938,\n",
    "         6879,  6564,  6951,  6874,  7181,  6567,  6952,  6786,  6604,  6768,\n",
    "         6629,  6740,  7008,  7177,  6969,  7093,  6972,  7021,  7052,  6798,\n",
    "         7023,  6947,  7112,  7508,  7279,  7276,  7493,  7492,  7425,  7550,\n",
    "         7542,  7540,  7567,  7370,  7241,  7378,  7664,  7662,  7632,  7599,\n",
    "         7703,  7716,  7697,  7741,  7746,  7747,  7784,  7800,  7802,  7809,\n",
    "         7822,  7823,  7833,  7851,  7851,  7883,  7885,  7911,  7934,  7948,\n",
    "         7957,  8015,  8049,  8066,  8111,  8115,  8118,  8121,  8233,  8270,\n",
    "         8273,  8275,  8279,  8282,  8387,  8397,  8456,  7808,  7834,  7838,\n",
    "         8432,  8449,  8437,  8307,  8489,  8488,  8454,  8175,  8050,  8265,\n",
    "         8300,  8020,  7829,  8513,  8950,  8989,  8980,  8981,  8997,  9123,\n",
    "         8778,  9160,  8939,  9095,  8749,  9139,  8861,  8823,  8675,  8806,\n",
    "         8688,  8683,  9214,  9318,  9302,  9369,  9441,  9272,  9363,  9275,\n",
    "         9725,  9505,  9499,  9703,  9686,  9712,  9529,  9714,  9675,  9653,\n",
    "         9781,  9788,  9912,  9951, 10082, 10184,  9793, 10028,  9940,  9904,\n",
    "         9905, 10196,  9946, 10218, 10136, 10213, 10231, 10241,  9929, 10234,\n",
    "         9803, 10219, 10077,  9785,  9807, 10358, 10359, 10364, 10355, 10547,\n",
    "        10592, 10821, 10822, 10541, 10555, 10669, 10670, 10712, 10860, 10869,\n",
    "        10871, 10900, 10395, 10386, 10624, 10317, 10537, 10382, 10619, 10610,\n",
    "        10662, 10896, 10831, 10420, 10668, 11273, 11688, 11291, 11282, 11658,\n",
    "        11722, 11640, 11037, 11051, 11336, 11133, 11016, 11447, 11453, 11054,\n",
    "        11137, 11466, 11604, 11019, 11599, 11255, 11445, 11542, 11192, 11425,\n",
    "        11388, 11770, 11795, 11996, 12015, 12051, 12078, 12156, 12218, 12230,\n",
    "        12237, 12473, 12475, 12480, 12483, 12811, 12872, 12928, 12930, 12979,\n",
    "        13005, 13013, 13061, 13063, 13065, 13068, 13069, 13072, 13098, 13103,\n",
    "        13117, 13120, 13127, 13131, 13140, 13143, 13153, 13157, 13158, 13159,\n",
    "        13166, 13185, 13192, 13215, 13218, 13235, 13237, 13240, 13242, 13257,\n",
    "        13261, 13261, 13263, 13266, 13268, 13270, 13291, 12016, 12048, 12591,\n",
    "        12664, 12878, 12885, 12923, 12971, 13010, 13038, 13040, 13090, 13093,\n",
    "        13109, 13126, 13163, 13169, 13172, 13195, 13196, 13236, 13262, 11848,\n",
    "        11917, 12094, 12284, 12288, 12378, 12571, 12596, 13287, 12366, 11816,\n",
    "        12293, 12416, 12701, 12194, 12990, 11914, 12456, 12138, 11804, 11869,\n",
    "        12607, 12658, 12086, 12684, 12765, 12686, 11984, 11947, 12357, 12356,\n",
    "        12721, 12544, 13424, 13457, 13458, 13474, 13487, 13642, 13669, 13672,\n",
    "        13456, 13489, 13588, 13668, 13671, 13715, 13603, 13324, 13786, 13561,\n",
    "        13787, 13790, 13449, 13314, 13613, 14112, 14116, 14167, 14169, 14172,\n",
    "        13921, 13995, 14080, 14073, 14043, 13841, 13846, 14001, 13899, 13873,\n",
    "        13869, 13885, 13930, 13832, 14180, 14524, 14697, 14728, 14187, 14210,\n",
    "        14518, 14201, 14319, 14266, 14789, 14185, 14688, 14340, 14478, 14370,\n",
    "        14814, 14579, 14343, 14496, 14823, 14799, 14335, 14332, 14212, 14651,\n",
    "        14547, 14973, 14869, 14899, 14956, 14858, 14940, 14995, 15015, 15030,\n",
    "        15118, 15145, 15013, 15026, 15114, 15119, 15119, 15170, 15104, 15497,\n",
    "        15546, 15564, 15330, 15321, 15690, 15753, 15334, 15898, 15591, 15592,\n",
    "        15344, 15694, 15825, 15337, 15659, 15474, 15588, 15896, 15636, 15599,\n",
    "        15535, 15556, 15204, 15303, 16128, 15951, 15929, 15931, 15909, 16088,\n",
    "        16134, 16044, 16042, 16127, 16058, 16121, 16165, 16197, 16837, 16846,\n",
    "        16903, 16914, 16921, 17107, 17113, 17114, 17115, 17119, 17128, 16697,\n",
    "        16812, 17120, 16331, 17087, 16151, 16566, 16386, 16655, 17048, 17064,\n",
    "        16231, 16598, 16662, 16226, 16218, 16791, 16867, 16322, 17576, 17480,\n",
    "        17663, 17664, 17906, 17342, 17420, 17306, 17855, 17536, 17509, 17362,\n",
    "        17633, 17257, 17483, 17442, 17353, 17317, 17786, 17764, 17734, 17729,\n",
    "        17889, 17933, 17175, 17146, 17371, 17621, 17914, 17302, 17658, 17925,\n",
    "        17805, 17594, 18220, 18309, 17972, 17977, 18144, 18278, 18194, 18241,\n",
    "        18383, 18230, 18268, 18236, 18336, 18348, 17961, 18253, 18131, 17970,\n",
    "        17971, 18175, 18018, 18180, 18029, 18017, 18095, 18179, 18038, 18314,\n",
    "        17942, 18452, 18455, 18456, 18694, 18715, 18717, 18723, 18725, 18441,\n",
    "        18699, 18724])\n",
    "\n",
    "names = ['Q8TBC3', 'Q9Y4X0', 'Q9Y258', 'Q9Y4K1', 'Q8ND90', 'Q9NQ87', 'Q96SF7', 'Q9C0D5', 'P04001', 'Q8TD86', 'Q96JB8', 'P0CB48', 'Q6RSH7', 'P06401', 'Q9NZ20', 'Q9Y257', 'B0FP48', 'Q9ULM6', 'P16435', 'Q9Y5E2', 'P11388', 'O75886', 'P06729', 'Q96BT7', 'B2RV13', 'Q93062', 'Q5VTM2', 'Q96CG8', 'Q13472', 'Q7LBE3', 'P31644', 'Q13491']"
   ]
  },
  {
   "cell_type": "code",
   "execution_count": 61,
   "metadata": {},
   "outputs": [
    {
     "data": {
      "text/plain": [
       "[7074,\n",
       " 2162,\n",
       " 12275,\n",
       " 14604,\n",
       " 8965,\n",
       " 8713,\n",
       " 11533,\n",
       " 4270,\n",
       " 8500,\n",
       " 7799,\n",
       " 4953,\n",
       " 9054,\n",
       " 1254,\n",
       " 11180,\n",
       " 5356,\n",
       " 11699,\n",
       " 6754,\n",
       " 16688,\n",
       " 4069,\n",
       " 10389,\n",
       " 16493,\n",
       " 9542,\n",
       " 2999,\n",
       " 10882,\n",
       " 13990,\n",
       " 373,\n",
       " 3048,\n",
       " 2580,\n",
       " 8072,\n",
       " 11543,\n",
       " 7878,\n",
       " 16273]"
      ]
     },
     "execution_count": 61,
     "metadata": {},
     "output_type": "execute_result"
    }
   ],
   "source": [
    "uniprot_id_indexes = [ds.uniprot_ids.index(u) for u in names]\n",
    "uniprot_id_indexes"
   ]
  },
  {
   "cell_type": "code",
   "execution_count": 7,
   "metadata": {},
   "outputs": [
    {
     "ename": "AttributeError",
     "evalue": "'tuple' object has no attribute 'name'",
     "output_type": "error",
     "traceback": [
      "\u001b[0;31m---------------------------------------------------------------------------\u001b[0m",
      "\u001b[0;31mAttributeError\u001b[0m                            Traceback (most recent call last)",
      "\u001b[1;32m/home/cim/STRUCTURAL_MOTIFS/phospholite/train/debug.ipynb Cell 7\u001b[0m line \u001b[0;36m3\n\u001b[1;32m      <a href='vscode-notebook-cell:/home/cim/STRUCTURAL_MOTIFS/phospholite/train/debug.ipynb#W6sZmlsZQ%3D%3D?line=0'>1</a>\u001b[0m batch_dict \u001b[39m=\u001b[39m {}\n\u001b[1;32m      <a href='vscode-notebook-cell:/home/cim/STRUCTURAL_MOTIFS/phospholite/train/debug.ipynb#W6sZmlsZQ%3D%3D?line=1'>2</a>\u001b[0m stopping_num \u001b[39m=\u001b[39m \u001b[39m149\u001b[39m \u001b[39m# epoch 149 / 341\u001b[39;00m\n\u001b[0;32m----> <a href='vscode-notebook-cell:/home/cim/STRUCTURAL_MOTIFS/phospholite/train/debug.ipynb#W6sZmlsZQ%3D%3D?line=2'>3</a>\u001b[0m \u001b[39mfor\u001b[39;00m i, batch \u001b[39min\u001b[39;00m \u001b[39menumerate\u001b[39m(train_loader):\n\u001b[1;32m      <a href='vscode-notebook-cell:/home/cim/STRUCTURAL_MOTIFS/phospholite/train/debug.ipynb#W6sZmlsZQ%3D%3D?line=4'>5</a>\u001b[0m     \u001b[39mif\u001b[39;00m i \u001b[39m>\u001b[39m stopping_num \u001b[39m-\u001b[39m \u001b[39m5\u001b[39m \u001b[39mand\u001b[39;00m i \u001b[39m<\u001b[39m stopping_num \u001b[39m+\u001b[39m \u001b[39m5\u001b[39m:\n\u001b[1;32m      <a href='vscode-notebook-cell:/home/cim/STRUCTURAL_MOTIFS/phospholite/train/debug.ipynb#W6sZmlsZQ%3D%3D?line=5'>6</a>\u001b[0m         batch_dict[i] \u001b[39m=\u001b[39m batch\n",
      "File \u001b[0;32m~/anaconda3/envs/phosphosite_ml/lib/python3.9/site-packages/torch/utils/data/dataloader.py:681\u001b[0m, in \u001b[0;36m_BaseDataLoaderIter.__next__\u001b[0;34m(self)\u001b[0m\n\u001b[1;32m    678\u001b[0m \u001b[39mif\u001b[39;00m \u001b[39mself\u001b[39m\u001b[39m.\u001b[39m_sampler_iter \u001b[39mis\u001b[39;00m \u001b[39mNone\u001b[39;00m:\n\u001b[1;32m    679\u001b[0m     \u001b[39m# TODO(https://github.com/pytorch/pytorch/issues/76750)\u001b[39;00m\n\u001b[1;32m    680\u001b[0m     \u001b[39mself\u001b[39m\u001b[39m.\u001b[39m_reset()  \u001b[39m# type: ignore[call-arg]\u001b[39;00m\n\u001b[0;32m--> 681\u001b[0m data \u001b[39m=\u001b[39m \u001b[39mself\u001b[39;49m\u001b[39m.\u001b[39;49m_next_data()\n\u001b[1;32m    682\u001b[0m \u001b[39mself\u001b[39m\u001b[39m.\u001b[39m_num_yielded \u001b[39m+\u001b[39m\u001b[39m=\u001b[39m \u001b[39m1\u001b[39m\n\u001b[1;32m    683\u001b[0m \u001b[39mif\u001b[39;00m \u001b[39mself\u001b[39m\u001b[39m.\u001b[39m_dataset_kind \u001b[39m==\u001b[39m _DatasetKind\u001b[39m.\u001b[39mIterable \u001b[39mand\u001b[39;00m \\\n\u001b[1;32m    684\u001b[0m         \u001b[39mself\u001b[39m\u001b[39m.\u001b[39m_IterableDataset_len_called \u001b[39mis\u001b[39;00m \u001b[39mnot\u001b[39;00m \u001b[39mNone\u001b[39;00m \u001b[39mand\u001b[39;00m \\\n\u001b[1;32m    685\u001b[0m         \u001b[39mself\u001b[39m\u001b[39m.\u001b[39m_num_yielded \u001b[39m>\u001b[39m \u001b[39mself\u001b[39m\u001b[39m.\u001b[39m_IterableDataset_len_called:\n",
      "File \u001b[0;32m~/anaconda3/envs/phosphosite_ml/lib/python3.9/site-packages/torch/utils/data/dataloader.py:721\u001b[0m, in \u001b[0;36m_SingleProcessDataLoaderIter._next_data\u001b[0;34m(self)\u001b[0m\n\u001b[1;32m    719\u001b[0m \u001b[39mdef\u001b[39;00m \u001b[39m_next_data\u001b[39m(\u001b[39mself\u001b[39m):\n\u001b[1;32m    720\u001b[0m     index \u001b[39m=\u001b[39m \u001b[39mself\u001b[39m\u001b[39m.\u001b[39m_next_index()  \u001b[39m# may raise StopIteration\u001b[39;00m\n\u001b[0;32m--> 721\u001b[0m     data \u001b[39m=\u001b[39m \u001b[39mself\u001b[39;49m\u001b[39m.\u001b[39;49m_dataset_fetcher\u001b[39m.\u001b[39;49mfetch(index)  \u001b[39m# may raise StopIteration\u001b[39;00m\n\u001b[1;32m    722\u001b[0m     \u001b[39mif\u001b[39;00m \u001b[39mself\u001b[39m\u001b[39m.\u001b[39m_pin_memory:\n\u001b[1;32m    723\u001b[0m         data \u001b[39m=\u001b[39m _utils\u001b[39m.\u001b[39mpin_memory\u001b[39m.\u001b[39mpin_memory(data, \u001b[39mself\u001b[39m\u001b[39m.\u001b[39m_pin_memory_device)\n",
      "File \u001b[0;32m~/anaconda3/envs/phosphosite_ml/lib/python3.9/site-packages/torch/utils/data/_utils/fetch.py:49\u001b[0m, in \u001b[0;36m_MapDatasetFetcher.fetch\u001b[0;34m(self, possibly_batched_index)\u001b[0m\n\u001b[1;32m     47\u001b[0m \u001b[39mdef\u001b[39;00m \u001b[39mfetch\u001b[39m(\u001b[39mself\u001b[39m, possibly_batched_index):\n\u001b[1;32m     48\u001b[0m     \u001b[39mif\u001b[39;00m \u001b[39mself\u001b[39m\u001b[39m.\u001b[39mauto_collation:\n\u001b[0;32m---> 49\u001b[0m         data \u001b[39m=\u001b[39m [\u001b[39mself\u001b[39m\u001b[39m.\u001b[39mdataset[idx] \u001b[39mfor\u001b[39;00m idx \u001b[39min\u001b[39;00m possibly_batched_index]\n\u001b[1;32m     50\u001b[0m     \u001b[39melse\u001b[39;00m:\n\u001b[1;32m     51\u001b[0m         data \u001b[39m=\u001b[39m \u001b[39mself\u001b[39m\u001b[39m.\u001b[39mdataset[possibly_batched_index]\n",
      "File \u001b[0;32m~/anaconda3/envs/phosphosite_ml/lib/python3.9/site-packages/torch/utils/data/_utils/fetch.py:49\u001b[0m, in \u001b[0;36m<listcomp>\u001b[0;34m(.0)\u001b[0m\n\u001b[1;32m     47\u001b[0m \u001b[39mdef\u001b[39;00m \u001b[39mfetch\u001b[39m(\u001b[39mself\u001b[39m, possibly_batched_index):\n\u001b[1;32m     48\u001b[0m     \u001b[39mif\u001b[39;00m \u001b[39mself\u001b[39m\u001b[39m.\u001b[39mauto_collation:\n\u001b[0;32m---> 49\u001b[0m         data \u001b[39m=\u001b[39m [\u001b[39mself\u001b[39;49m\u001b[39m.\u001b[39;49mdataset[idx] \u001b[39mfor\u001b[39;00m idx \u001b[39min\u001b[39;00m possibly_batched_index]\n\u001b[1;32m     50\u001b[0m     \u001b[39melse\u001b[39;00m:\n\u001b[1;32m     51\u001b[0m         data \u001b[39m=\u001b[39m \u001b[39mself\u001b[39m\u001b[39m.\u001b[39mdataset[possibly_batched_index]\n",
      "File \u001b[0;32m~/anaconda3/envs/phosphosite_ml/lib/python3.9/site-packages/torch/utils/data/dataset.py:290\u001b[0m, in \u001b[0;36mSubset.__getitem__\u001b[0;34m(self, idx)\u001b[0m\n\u001b[1;32m    288\u001b[0m \u001b[39mif\u001b[39;00m \u001b[39misinstance\u001b[39m(idx, \u001b[39mlist\u001b[39m):\n\u001b[1;32m    289\u001b[0m     \u001b[39mreturn\u001b[39;00m \u001b[39mself\u001b[39m\u001b[39m.\u001b[39mdataset[[\u001b[39mself\u001b[39m\u001b[39m.\u001b[39mindices[i] \u001b[39mfor\u001b[39;00m i \u001b[39min\u001b[39;00m idx]]\n\u001b[0;32m--> 290\u001b[0m \u001b[39mreturn\u001b[39;00m \u001b[39mself\u001b[39;49m\u001b[39m.\u001b[39;49mdataset[\u001b[39mself\u001b[39;49m\u001b[39m.\u001b[39;49mindices[idx]]\n",
      "File \u001b[0;32m~/anaconda3/envs/phosphosite_ml/lib/python3.9/site-packages/torch/utils/data/dataset.py:290\u001b[0m, in \u001b[0;36mSubset.__getitem__\u001b[0;34m(self, idx)\u001b[0m\n\u001b[1;32m    288\u001b[0m \u001b[39mif\u001b[39;00m \u001b[39misinstance\u001b[39m(idx, \u001b[39mlist\u001b[39m):\n\u001b[1;32m    289\u001b[0m     \u001b[39mreturn\u001b[39;00m \u001b[39mself\u001b[39m\u001b[39m.\u001b[39mdataset[[\u001b[39mself\u001b[39m\u001b[39m.\u001b[39mindices[i] \u001b[39mfor\u001b[39;00m i \u001b[39min\u001b[39;00m idx]]\n\u001b[0;32m--> 290\u001b[0m \u001b[39mreturn\u001b[39;00m \u001b[39mself\u001b[39;49m\u001b[39m.\u001b[39;49mdataset[\u001b[39mself\u001b[39;49m\u001b[39m.\u001b[39;49mindices[idx]]\n",
      "File \u001b[0;32m~/anaconda3/envs/phosphosite_ml/lib/python3.9/site-packages/torch_geometric/data/dataset.py:258\u001b[0m, in \u001b[0;36mDataset.__getitem__\u001b[0;34m(self, idx)\u001b[0m\n\u001b[1;32m    248\u001b[0m \u001b[39m\u001b[39m\u001b[39mr\u001b[39m\u001b[39m\"\"\"In case :obj:`idx` is of type integer, will return the data object\u001b[39;00m\n\u001b[1;32m    249\u001b[0m \u001b[39mat index :obj:`idx` (and transforms it in case :obj:`transform` is\u001b[39;00m\n\u001b[1;32m    250\u001b[0m \u001b[39mpresent).\u001b[39;00m\n\u001b[1;32m    251\u001b[0m \u001b[39mIn case :obj:`idx` is a slicing object, *e.g.*, :obj:`[2:5]`, a list, a\u001b[39;00m\n\u001b[1;32m    252\u001b[0m \u001b[39mtuple, or a :obj:`torch.Tensor` or :obj:`np.ndarray` of type long or\u001b[39;00m\n\u001b[1;32m    253\u001b[0m \u001b[39mbool, will return a subset of the dataset at the specified indices.\"\"\"\u001b[39;00m\n\u001b[1;32m    254\u001b[0m \u001b[39mif\u001b[39;00m (\u001b[39misinstance\u001b[39m(idx, (\u001b[39mint\u001b[39m, np\u001b[39m.\u001b[39minteger))\n\u001b[1;32m    255\u001b[0m         \u001b[39mor\u001b[39;00m (\u001b[39misinstance\u001b[39m(idx, Tensor) \u001b[39mand\u001b[39;00m idx\u001b[39m.\u001b[39mdim() \u001b[39m==\u001b[39m \u001b[39m0\u001b[39m)\n\u001b[1;32m    256\u001b[0m         \u001b[39mor\u001b[39;00m (\u001b[39misinstance\u001b[39m(idx, np\u001b[39m.\u001b[39mndarray) \u001b[39mand\u001b[39;00m np\u001b[39m.\u001b[39misscalar(idx))):\n\u001b[0;32m--> 258\u001b[0m     data \u001b[39m=\u001b[39m \u001b[39mself\u001b[39;49m\u001b[39m.\u001b[39;49mget(\u001b[39mself\u001b[39;49m\u001b[39m.\u001b[39;49mindices()[idx])\n\u001b[1;32m    259\u001b[0m     data \u001b[39m=\u001b[39m data \u001b[39mif\u001b[39;00m \u001b[39mself\u001b[39m\u001b[39m.\u001b[39mtransform \u001b[39mis\u001b[39;00m \u001b[39mNone\u001b[39;00m \u001b[39melse\u001b[39;00m \u001b[39mself\u001b[39m\u001b[39m.\u001b[39mtransform(data)\n\u001b[1;32m    260\u001b[0m     \u001b[39mreturn\u001b[39;00m data\n",
      "File \u001b[0;32m~/STRUCTURAL_MOTIFS/phospholite/phospholite/ml/dataset.py:260\u001b[0m, in \u001b[0;36mPhosphositeGraphDataset.get\u001b[0;34m(self, idx)\u001b[0m\n\u001b[1;32m    256\u001b[0m uniprot_id \u001b[39m=\u001b[39m \u001b[39mself\u001b[39m\u001b[39m.\u001b[39muniprot_ids[idx]\n\u001b[1;32m    257\u001b[0m data \u001b[39m=\u001b[39m torch\u001b[39m.\u001b[39mload(\n\u001b[1;32m    258\u001b[0m     os\u001b[39m.\u001b[39mpath\u001b[39m.\u001b[39mjoin(\u001b[39mself\u001b[39m\u001b[39m.\u001b[39mprocessed_dir, \u001b[39mf\u001b[39m\u001b[39m\"\u001b[39m\u001b[39m{\u001b[39;00muniprot_id\u001b[39m}\u001b[39;00m\u001b[39m.pt\u001b[39m\u001b[39m\"\u001b[39m)\n\u001b[1;32m    259\u001b[0m )\n\u001b[0;32m--> 260\u001b[0m \u001b[39massert\u001b[39;00m uniprot_id \u001b[39m==\u001b[39m data\u001b[39m.\u001b[39;49mname, \u001b[39mf\u001b[39m\u001b[39m\"\u001b[39m\u001b[39mUniprot ID \u001b[39m\u001b[39m'\u001b[39m\u001b[39m{\u001b[39;00muniprot_id\u001b[39m}\u001b[39;00m\u001b[39m'\u001b[39m\u001b[39m does not match data.name \u001b[39m\u001b[39m'\u001b[39m\u001b[39m{\u001b[39;00mdata\u001b[39m.\u001b[39mname\u001b[39m}\u001b[39;00m\u001b[39m'\u001b[39m\u001b[39m at index \u001b[39m\u001b[39m{\u001b[39;00midx\u001b[39m}\u001b[39;00m\u001b[39m.\u001b[39m\u001b[39m\"\u001b[39m\n\u001b[1;32m    262\u001b[0m data\u001b[39m.\u001b[39my_index    \u001b[39m=\u001b[39m \u001b[39mself\u001b[39m\u001b[39m.\u001b[39my_label_map[uniprot_id][\u001b[39m\"\u001b[39m\u001b[39midx\u001b[39m\u001b[39m\"\u001b[39m]\n\u001b[1;32m    263\u001b[0m data\u001b[39m.\u001b[39my          \u001b[39m=\u001b[39m \u001b[39mself\u001b[39m\u001b[39m.\u001b[39my_label_map[uniprot_id][\u001b[39m\"\u001b[39m\u001b[39my\u001b[39m\u001b[39m\"\u001b[39m]\n",
      "\u001b[0;31mAttributeError\u001b[0m: 'tuple' object has no attribute 'name'"
     ]
    }
   ],
   "source": [
    "batch_dict = {}\n",
    "stopping_num = 149 # epoch 149 / 341\n",
    "for i, batch in enumerate(train_loader):\n",
    "    \n",
    "    if i > stopping_num - 5 and i < stopping_num + 5:\n",
    "        batch_dict[i] = batch"
   ]
  },
  {
   "cell_type": "code",
   "execution_count": 14,
   "metadata": {},
   "outputs": [
    {
     "data": {
      "text/plain": [
       "{145: DataBatch(x=[21487, 1024], edge_index=[2, 7114], node_id=[32], b_factor=[21487], name=[32], num_nodes=21487, y_index=[1062], y=[1062], batch=[21487], ptr=[33]),\n",
       " 146: DataBatch(x=[17847, 1024], edge_index=[2, 7715], node_id=[32], b_factor=[17847], name=[32], num_nodes=17847, y_index=[833], y=[833], batch=[17847], ptr=[33]),\n",
       " 147: DataBatch(x=[25468, 1024], edge_index=[2, 6496], node_id=[32], b_factor=[25468], name=[32], num_nodes=25468, y_index=[1336], y=[1336], batch=[25468], ptr=[33]),\n",
       " 148: DataBatch(x=[13070, 1024], edge_index=[2, 4865], node_id=[32], b_factor=[13070], name=[32], num_nodes=13070, y_index=[632], y=[632], batch=[13070], ptr=[33]),\n",
       " 149: DataBatch(x=[14740, 1024], edge_index=[2, 6137], node_id=[32], b_factor=[14740], name=[32], num_nodes=14740, y_index=[807], y=[807], batch=[14740], ptr=[33]),\n",
       " 150: DataBatch(x=[17829, 1024], edge_index=[2, 4540], node_id=[32], b_factor=[17829], name=[32], num_nodes=17829, y_index=[794], y=[794], batch=[17829], ptr=[33]),\n",
       " 151: DataBatch(x=[18351, 1024], edge_index=[2, 6221], node_id=[32], b_factor=[18351], name=[32], num_nodes=18351, y_index=[924], y=[924], batch=[18351], ptr=[33]),\n",
       " 152: DataBatch(x=[19407, 1024], edge_index=[2, 6838], node_id=[32], b_factor=[19407], name=[32], num_nodes=19407, y_index=[837], y=[837], batch=[19407], ptr=[33]),\n",
       " 153: DataBatch(x=[18408, 1024], edge_index=[2, 4785], node_id=[32], b_factor=[18408], name=[32], num_nodes=18408, y_index=[806], y=[806], batch=[18408], ptr=[33])}"
      ]
     },
     "execution_count": 14,
     "metadata": {},
     "output_type": "execute_result"
    }
   ],
   "source": [
    "batch_dict"
   ]
  },
  {
   "cell_type": "code",
   "execution_count": 38,
   "metadata": {},
   "outputs": [
    {
     "name": "stdout",
     "output_type": "stream",
     "text": [
      "145\n",
      "['O75182', 'P52789', 'P33076', 'Q66K14', 'O15121', 'P50148', 'Q96PH1', 'P15382', 'Q5SQ64', 'Q5GH70']\n",
      "146\n",
      "['P05023', 'P00738', 'P30085', 'P84090', 'Q99767', 'Q8IY47', 'O43572', 'Q6PIJ6', 'Q3B726', 'Q15436']\n",
      "147\n",
      "['Q9BZ23', 'P35542', 'Q5T8I3', 'Q9HCJ0', 'Q96PF2', 'Q9GZN6', 'Q86UE4', 'A6H8Y1', 'Q9HAH7', 'Q9UQB9']\n",
      "148\n",
      "['P09912', 'P31213', 'P52735', 'Q9Y3A4', 'Q8NGP0', 'P0CE71', 'Q9H227', 'Q9H7E9', 'Q15291', 'P15260']\n",
      "149\n",
      "['O00238', 'P37108', 'P34932', 'Q96BY2', 'O95218', 'O75083', 'Q9BXY4', 'P0DTE5', 'Q86T24', 'A6NNA2']\n",
      "150\n",
      "['Q9NWT6', 'P20138', 'Q9UIH9', 'Q9BRK5', 'O43148', 'Q6UXU4', 'A6NHQ4', 'Q8WXH4', 'Q15032', 'Q15797']\n",
      "151\n",
      "['Q92769', 'P47211', 'Q9NPI7', 'P30939', 'Q8IWB1', 'Q6ZMQ8', 'P43243', 'P35222', 'O95626', 'Q02535']\n",
      "152\n",
      "['Q96H55', 'P49763', 'O43543', 'Q02040', 'Q9BYB4', 'P07199', 'Q6ZNW5', 'P52198', 'Q6UXS9', 'Q96QE3']\n",
      "153\n",
      "['Q96KC8', 'A8MXV6', 'Q13200', 'Q8N5H7', 'Q9BY66', 'Q86UP8', 'Q9H2G2', 'Q8IZY5', 'A8MW95', 'Q5VT66']\n"
     ]
    }
   ],
   "source": [
    "for i, batch in batch_dict.items():\n",
    "    print(i)\n",
    "    print(batch.name[0:10])"
   ]
  },
  {
   "cell_type": "code",
   "execution_count": 36,
   "metadata": {},
   "outputs": [],
   "source": [
    "for i, batch in batch_dict.items():\n",
    "    x = batch \n",
    "    y_sparse = x.y \n",
    "    y_index = x.y_index\n",
    "    y_index = y_index.to(torch.long)\n",
    "    y_hat = model(x)\n",
    "\n",
    "    # Flatten \n",
    "    y_hat = torch.flatten(y_hat)\n",
    "    y_sparse = torch.flatten(y_sparse)\n",
    "    y_index = torch.flatten(y_index).detach().cpu()\n",
    "\n",
    "    # Use `y_index` to only select the values that are in the mask\n",
    "    y_hat = y_hat[y_index]\n",
    "\n"
   ]
  },
  {
   "cell_type": "code",
   "execution_count": 31,
   "metadata": {},
   "outputs": [],
   "source": [
    "x = batch \n",
    "y_sparse = x.y \n",
    "y_index = x.y_index\n",
    "y_index = y_index.to(torch.long)\n",
    "y_hat = model(x)\n",
    "\n",
    "# Flatten \n",
    "y_hat = torch.flatten(y_hat)\n",
    "y_sparse = torch.flatten(y_sparse)\n",
    "y_index = torch.flatten(y_index).detach().cpu()\n",
    "\n",
    "# Use `y_index` to only select the values that are in the mask\n",
    "y_hat = y_hat[y_index]"
   ]
  },
  {
   "cell_type": "code",
   "execution_count": 32,
   "metadata": {},
   "outputs": [
    {
     "data": {
      "text/plain": [
       "torch.Size([807])"
      ]
     },
     "execution_count": 32,
     "metadata": {},
     "output_type": "execute_result"
    }
   ],
   "source": [
    "batch.y_index.shape"
   ]
  },
  {
   "cell_type": "code",
   "execution_count": 33,
   "metadata": {},
   "outputs": [
    {
     "data": {
      "text/plain": [
       "torch.Size([807])"
      ]
     },
     "execution_count": 33,
     "metadata": {},
     "output_type": "execute_result"
    }
   ],
   "source": [
    "y_index.shape"
   ]
  },
  {
   "cell_type": "code",
   "execution_count": 34,
   "metadata": {},
   "outputs": [
    {
     "data": {
      "text/plain": [
       "torch.Size([807])"
      ]
     },
     "execution_count": 34,
     "metadata": {},
     "output_type": "execute_result"
    }
   ],
   "source": [
    "y_hat.shape"
   ]
  },
  {
   "cell_type": "markdown",
   "metadata": {},
   "source": [
    "#### Manually create databatch that we have on NCI"
   ]
  },
  {
   "cell_type": "code",
   "execution_count": 39,
   "metadata": {},
   "outputs": [],
   "source": [
    "uniprot_ids = ['Q8IYF3', 'Q92990', 'P0DMS8', 'P78545', 'Q9BY43', 'Q14D04', 'P0DJI9', 'O75843', 'Q86WX3', 'Q8N7X4', 'P52742', 'Q9HD45', 'Q70EL2', 'A6NFQ7', 'O43716', 'P06756', 'A6NJ46', 'Q9Y2R2', 'P20333', 'Q9NP66', 'Q69YN4', 'Q9NYL4', 'Q8NB16', 'P47928', 'Q9BUA6', 'Q8NGP0', 'P00736', 'Q9P2X3', 'Q8TBM7', 'O75290', 'P58753', 'Q12756']"
   ]
  },
  {
   "cell_type": "code",
   "execution_count": 42,
   "metadata": {},
   "outputs": [
    {
     "data": {
      "text/plain": [
       "Data(x=[1311, 1024], edge_index=[2, 59], node_id=[1311], b_factor=[1311], name='P51816', num_nodes=1311, y_index=[54], y=[54])"
      ]
     },
     "execution_count": 42,
     "metadata": {},
     "output_type": "execute_result"
    }
   ],
   "source": [
    "# manually create databatch from uniprot_ids \n",
    "\n",
    "ds[0]"
   ]
  },
  {
   "cell_type": "markdown",
   "metadata": {},
   "source": [
    "### Test problem batch"
   ]
  },
  {
   "cell_type": "code",
   "execution_count": 94,
   "metadata": {},
   "outputs": [],
   "source": [
    "from torch_geometric.data import Batch\n",
    "problem_batch = Batch.from_data_list([ds[i] for i in uniprot_id_indexes])\n",
    "\n",
    "def test_batch(\n",
    "    batch = None, \n",
    "):\n",
    "    \n",
    "    y_sparse = batch.y \n",
    "    y_index = batch.y_index\n",
    "    y_index = y_index.to(torch.long)\n",
    "    y_hat = model(batch)\n",
    "\n",
    "    # Flatten \n",
    "    y_hat = torch.flatten(y_hat)\n",
    "    y_sparse = torch.flatten(y_sparse)\n",
    "    y_index = torch.flatten(y_index).detach().cpu()\n",
    "\n",
    "    # Use `y_index` to only select the values that are in the mask\n",
    "    y_hat = y_hat[y_index]\n",
    "\n",
    "    return y_hat, y_sparse"
   ]
  },
  {
   "cell_type": "code",
   "execution_count": 95,
   "metadata": {},
   "outputs": [
    {
     "ename": "IndexError",
     "evalue": "index 18694 is out of bounds for dimension 0 with size 18663",
     "output_type": "error",
     "traceback": [
      "\u001b[0;31m---------------------------------------------------------------------------\u001b[0m",
      "\u001b[0;31mIndexError\u001b[0m                                Traceback (most recent call last)",
      "\u001b[1;32m/home/cim/STRUCTURAL_MOTIFS/phospholite/train/debug.ipynb Cell 26\u001b[0m line \u001b[0;36m1\n\u001b[0;32m----> <a href='vscode-notebook-cell:/home/cim/STRUCTURAL_MOTIFS/phospholite/train/debug.ipynb#X40sZmlsZQ%3D%3D?line=0'>1</a>\u001b[0m test_batch(problem_batch)\n",
      "\u001b[1;32m/home/cim/STRUCTURAL_MOTIFS/phospholite/train/debug.ipynb Cell 26\u001b[0m line \u001b[0;36m1\n\u001b[1;32m     <a href='vscode-notebook-cell:/home/cim/STRUCTURAL_MOTIFS/phospholite/train/debug.ipynb#X40sZmlsZQ%3D%3D?line=15'>16</a>\u001b[0m y_index \u001b[39m=\u001b[39m torch\u001b[39m.\u001b[39mflatten(y_index)\u001b[39m.\u001b[39mdetach()\u001b[39m.\u001b[39mcpu()\n\u001b[1;32m     <a href='vscode-notebook-cell:/home/cim/STRUCTURAL_MOTIFS/phospholite/train/debug.ipynb#X40sZmlsZQ%3D%3D?line=17'>18</a>\u001b[0m \u001b[39m# Use `y_index` to only select the values that are in the mask\u001b[39;00m\n\u001b[0;32m---> <a href='vscode-notebook-cell:/home/cim/STRUCTURAL_MOTIFS/phospholite/train/debug.ipynb#X40sZmlsZQ%3D%3D?line=18'>19</a>\u001b[0m y_hat \u001b[39m=\u001b[39m y_hat[y_index]\n\u001b[1;32m     <a href='vscode-notebook-cell:/home/cim/STRUCTURAL_MOTIFS/phospholite/train/debug.ipynb#X40sZmlsZQ%3D%3D?line=20'>21</a>\u001b[0m \u001b[39mreturn\u001b[39;00m y_hat, y_sparse\n",
      "\u001b[0;31mIndexError\u001b[0m: index 18694 is out of bounds for dimension 0 with size 18663"
     ]
    }
   ],
   "source": [
    "test_batch(problem_batch)"
   ]
  },
  {
   "cell_type": "code",
   "execution_count": 96,
   "metadata": {},
   "outputs": [],
   "source": [
    "batch = problem_batch \n",
    "y_sparse = batch.y \n",
    "y_index = batch.y_index\n",
    "y_index = y_index.to(torch.long)\n",
    "y_hat = model(x)\n",
    "\n"
   ]
  },
  {
   "cell_type": "code",
   "execution_count": 97,
   "metadata": {},
   "outputs": [
    {
     "data": {
      "text/plain": [
       "(torch.Size([872]),\n",
       " torch.Size([872]),\n",
       " torch.Size([18663, 1]),\n",
       " torch.Size([18663, 1024]))"
      ]
     },
     "execution_count": 97,
     "metadata": {},
     "output_type": "execute_result"
    }
   ],
   "source": [
    "y_sparse.shape, y_index.shape, y_hat.shape, batch.x.shape"
   ]
  },
  {
   "cell_type": "code",
   "execution_count": 98,
   "metadata": {},
   "outputs": [
    {
     "data": {
      "text/plain": [
       "18663"
      ]
     },
     "execution_count": 98,
     "metadata": {},
     "output_type": "execute_result"
    }
   ],
   "source": [
    "sum([len(i) for i in batch.node_id])"
   ]
  },
  {
   "cell_type": "code",
   "execution_count": 103,
   "metadata": {},
   "outputs": [
    {
     "data": {
      "text/plain": [
       "tensor([    0,   707,  1040,  1134,  2857,  3210,  3538,  4140,  6001,  6365,\n",
       "         6546,  7183,  7583,  7722,  8655,  9164,  9477,  9740, 10297, 10974,\n",
       "        11767, 13298, 13823, 14174, 14838, 15002, 15198, 15901, 16144, 17145,\n",
       "        17936, 18398, 18663])"
      ]
     },
     "execution_count": 103,
     "metadata": {},
     "output_type": "execute_result"
    }
   ],
   "source": [
    "batch.ptr"
   ]
  },
  {
   "cell_type": "code",
   "execution_count": 99,
   "metadata": {},
   "outputs": [
    {
     "data": {
      "text/plain": [
       "18663"
      ]
     },
     "execution_count": 99,
     "metadata": {},
     "output_type": "execute_result"
    }
   ],
   "source": [
    "batch.num_nodes"
   ]
  },
  {
   "cell_type": "code",
   "execution_count": 104,
   "metadata": {},
   "outputs": [
    {
     "data": {
      "text/plain": [
       "torch.Size([18663, 1])"
      ]
     },
     "execution_count": 104,
     "metadata": {},
     "output_type": "execute_result"
    }
   ],
   "source": [
    "y_hat.shape"
   ]
  },
  {
   "cell_type": "code",
   "execution_count": null,
   "metadata": {},
   "outputs": [],
   "source": [
    "# Why the fuck are there more `y_hat` PREDICTIONS from running the model than there are actual `x` values?"
   ]
  },
  {
   "cell_type": "code",
   "execution_count": 100,
   "metadata": {},
   "outputs": [
    {
     "data": {
      "text/plain": [
       "tensor(18725.)"
      ]
     },
     "execution_count": 100,
     "metadata": {},
     "output_type": "execute_result"
    }
   ],
   "source": [
    "max(batch.y_index)"
   ]
  },
  {
   "cell_type": "code",
   "execution_count": 105,
   "metadata": {},
   "outputs": [
    {
     "data": {
      "text/plain": [
       "tensor([  143,   160,   184,   186,   623,   636,   639,   646,   648,   661,\n",
       "          162,   471,   681,   692,   695,   579,    92,   615,   612,     5,\n",
       "           12,   483,   535,   571,   621,   387,   552,    53,    54,   424,\n",
       "          346,   243,   456,    32,    31,   545,   433,   400,   329,   390,\n",
       "           42,   430,   721,   722,   725,   727,   735,   740,  1012,   823,\n",
       "          824,   816,   856,   851,  1005,   961,   924,  1093,  1069,  1076,\n",
       "         1105,  1097,  1084,  1149,  1152,  1155,  1187,  1205,  1208,  1211,\n",
       "         1214,  1235,  1236,  1244,  1256,  1265,  1274,  1462,  1481,  1543,\n",
       "         1548,  1550,  1589,  1594,  1617,  1662,  1666,  1672,  1684,  1750,\n",
       "         1769,  1842,  1858,  1892,  1897,  1918,  1960,  1965,  1969,  1970,\n",
       "         1973,  1974,  2033,  2051,  2053,  2112,  2130,  2145,  2161,  2166,\n",
       "         2237,  1153,  1217,  1238,  1277,  1379,  1557,  1657,  1658,  1663,\n",
       "         2012,  2013,  2139,  2141,  2058,  2125,  2160,  2702,  1998,  1982,\n",
       "         1984,  2002,  1996,  2004,  1713,  1987,  1361,  1781,  1362,  1993,\n",
       "         2382,  2540,  2327,  2587,  2487,  2464,  2763,  2457,  2419,  2670,\n",
       "         2500,  1930,  2394,  2370,  2435,  2483,  3021,  3011,  2999,  3199,\n",
       "         3099,  3082,  3032,  3410,  3448,  3465,  3526,  3391,  3529,  3243,\n",
       "         3244,  3349,  3727,  3789,  3790,  4068,  3867,  3696,  3710,  3712,\n",
       "         3714,  3826,  3580,  3918,  4052,  4047,  3908,  3607,  3645,  3646,\n",
       "         3673,  4061,  3734,  3806,  3556,  3872,  4161,  4168,  4176,  4179,\n",
       "         4182,  4200,  4202,  4205,  4206,  4218,  4224,  4236,  4271,  4346,\n",
       "         4352,  4353,  4356,  4382,  4409,  4452,  4465,  4478,  4583,  4586,\n",
       "         4587,  4604,  4692,  4864,  5194,  5305,  5624,  5636,  5642,  5652,\n",
       "         5681,  5690,  5703,  5798,  5804,  5807,  5817,  5824,  5826,  5994,\n",
       "         4341,  4350,  4357,  4423,  4456,  4477,  4486,  4560,  4617,  4826,\n",
       "         4948,  5286,  4233,  4466,  5626,  5966,  4574,  5562,  5360,  4802,\n",
       "         4695,  4815,  4873,  4797,  4955,  4849,  5127,  4998,  5082,  5335,\n",
       "         4368,  4363,  5869,  4370,  5896,  4293,  4501,  4671,  5319,  5104,\n",
       "         5418,  5488,  4938,  5067,  5213,  5103,  4644,  4871,  4756,  4652,\n",
       "         6057,  6258,  6313,  6184,  6176,  6233,  6029,  6030,  6360,  6035,\n",
       "         6348,  6045,  6031,  6356,  6026,  6209,  6118,  6192,  6351,  6540,\n",
       "         6388,  6383,  6372,  6419,  6693,  6849,  7007,  6899,  6906,  6938,\n",
       "         6879,  6564,  6951,  6874,  7181,  6567,  6952,  6786,  6604,  6768,\n",
       "         6629,  6740,  7008,  7177,  6969,  7093,  6972,  7021,  7052,  6798,\n",
       "         7023,  6947,  7112,  7508,  7279,  7276,  7493,  7492,  7425,  7550,\n",
       "         7542,  7540,  7567,  7370,  7241,  7378,  7664,  7662,  7632,  7599,\n",
       "         7703,  7716,  7697,  7741,  7746,  7747,  7784,  7800,  7802,  7809,\n",
       "         7822,  7823,  7833,  7851,  7851,  7883,  7885,  7911,  7934,  7948,\n",
       "         7957,  8015,  8049,  8066,  8111,  8115,  8118,  8121,  8233,  8270,\n",
       "         8273,  8275,  8279,  8282,  8387,  8397,  8456,  7808,  7834,  7838,\n",
       "         8432,  8449,  8437,  8307,  8489,  8488,  8454,  8175,  8050,  8265,\n",
       "         8300,  8020,  7829,  8513,  8950,  8989,  8980,  8981,  8997,  9123,\n",
       "         8778,  9160,  8939,  9095,  8749,  9139,  8861,  8823,  8675,  8806,\n",
       "         8688,  8683,  9214,  9318,  9302,  9369,  9441,  9272,  9363,  9275,\n",
       "         9725,  9505,  9499,  9703,  9686,  9712,  9529,  9714,  9675,  9653,\n",
       "         9781,  9788,  9912,  9951, 10082, 10184,  9793, 10028,  9940,  9904,\n",
       "         9905, 10196,  9946, 10218, 10136, 10213, 10231, 10241,  9929, 10234,\n",
       "         9803, 10219, 10077,  9785,  9807, 10358, 10359, 10364, 10355, 10547,\n",
       "        10592, 10821, 10822, 10541, 10555, 10669, 10670, 10712, 10860, 10869,\n",
       "        10871, 10900, 10395, 10386, 10624, 10317, 10537, 10382, 10619, 10610,\n",
       "        10662, 10896, 10831, 10420, 10668, 11273, 11688, 11291, 11282, 11658,\n",
       "        11722, 11640, 11037, 11051, 11336, 11133, 11016, 11447, 11453, 11054,\n",
       "        11137, 11466, 11604, 11019, 11599, 11255, 11445, 11542, 11192, 11425,\n",
       "        11388, 11770, 11795, 11996, 12015, 12051, 12078, 12156, 12218, 12230,\n",
       "        12237, 12473, 12475, 12480, 12483, 12811, 12872, 12928, 12930, 12979,\n",
       "        13005, 13013, 13061, 13063, 13065, 13068, 13069, 13072, 13098, 13103,\n",
       "        13117, 13120, 13127, 13131, 13140, 13143, 13153, 13157, 13158, 13159,\n",
       "        13166, 13185, 13192, 13215, 13218, 13235, 13237, 13240, 13242, 13257,\n",
       "        13261, 13261, 13263, 13266, 13268, 13270, 13291, 12016, 12048, 12591,\n",
       "        12664, 12878, 12885, 12923, 12971, 13010, 13038, 13040, 13090, 13093,\n",
       "        13109, 13126, 13163, 13169, 13172, 13195, 13196, 13236, 13262, 11848,\n",
       "        11917, 12094, 12284, 12288, 12378, 12571, 12596, 13287, 12366, 11816,\n",
       "        12293, 12416, 12701, 12194, 12990, 11914, 12456, 12138, 11804, 11869,\n",
       "        12607, 12658, 12086, 12684, 12765, 12686, 11984, 11947, 12357, 12356,\n",
       "        12721, 12544, 13424, 13457, 13458, 13474, 13487, 13642, 13669, 13672,\n",
       "        13456, 13489, 13588, 13668, 13671, 13715, 13603, 13324, 13786, 13561,\n",
       "        13787, 13790, 13449, 13314, 13613, 14112, 14116, 14167, 14169, 14172,\n",
       "        13921, 13995, 14080, 14073, 14043, 13841, 13846, 14001, 13899, 13873,\n",
       "        13869, 13885, 13930, 13832, 14180, 14524, 14697, 14728, 14187, 14210,\n",
       "        14518, 14201, 14319, 14266, 14789, 14185, 14688, 14340, 14478, 14370,\n",
       "        14814, 14579, 14343, 14496, 14823, 14799, 14335, 14332, 14212, 14651,\n",
       "        14547, 14973, 14869, 14899, 14956, 14858, 14940, 14995, 15015, 15030,\n",
       "        15118, 15145, 15013, 15026, 15114, 15119, 15119, 15170, 15104, 15497,\n",
       "        15546, 15564, 15330, 15321, 15690, 15753, 15334, 15898, 15591, 15592,\n",
       "        15344, 15694, 15825, 15337, 15659, 15474, 15588, 15896, 15636, 15599,\n",
       "        15535, 15556, 15204, 15303, 16128, 15951, 15929, 15931, 15909, 16088,\n",
       "        16134, 16044, 16042, 16127, 16058, 16121, 16165, 16197, 16837, 16846,\n",
       "        16903, 16914, 16921, 17107, 17113, 17114, 17115, 17119, 17128, 16697,\n",
       "        16812, 17120, 16331, 17087, 16151, 16566, 16386, 16655, 17048, 17064,\n",
       "        16231, 16598, 16662, 16226, 16218, 16791, 16867, 16322, 17576, 17480,\n",
       "        17663, 17664, 17906, 17342, 17420, 17306, 17855, 17536, 17509, 17362,\n",
       "        17633, 17257, 17483, 17442, 17353, 17317, 17786, 17764, 17734, 17729,\n",
       "        17889, 17933, 17175, 17146, 17371, 17621, 17914, 17302, 17658, 17925,\n",
       "        17805, 17594, 18220, 18309, 17972, 17977, 18144, 18278, 18194, 18241,\n",
       "        18383, 18230, 18268, 18236, 18336, 18348, 17961, 18253, 18131, 17970,\n",
       "        17971, 18175, 18018, 18180, 18029, 18017, 18095, 18179, 18038, 18314,\n",
       "        17942, 18452, 18455, 18456, 18694, 18715, 18717, 18723, 18725, 18441,\n",
       "        18699, 18724])"
      ]
     },
     "execution_count": 105,
     "metadata": {},
     "output_type": "execute_result"
    }
   ],
   "source": [
    "y_index"
   ]
  },
  {
   "cell_type": "code",
   "execution_count": 102,
   "metadata": {},
   "outputs": [
    {
     "data": {
      "text/plain": [
       "DataBatch(x=[18663, 1024], edge_index=[2, 7705], node_id=[32], b_factor=[18663], name=[32], num_nodes=18663, y_index=[872], y=[872], batch=[18663], ptr=[33])"
      ]
     },
     "execution_count": 102,
     "metadata": {},
     "output_type": "execute_result"
    }
   ],
   "source": [
    "x = batch.x \n",
    "batch"
   ]
  },
  {
   "cell_type": "code",
   "execution_count": 106,
   "metadata": {},
   "outputs": [],
   "source": [
    "# Flatten \n",
    "y_hat = torch.flatten(y_hat)\n",
    "y_sparse = torch.flatten(y_sparse)\n",
    "y_index = torch.flatten(y_index).detach().cpu()\n",
    "\n"
   ]
  },
  {
   "cell_type": "code",
   "execution_count": 108,
   "metadata": {},
   "outputs": [
    {
     "ename": "NameError",
     "evalue": "name 'y' is not defined",
     "output_type": "error",
     "traceback": [
      "\u001b[0;31m---------------------------------------------------------------------------\u001b[0m",
      "\u001b[0;31mNameError\u001b[0m                                 Traceback (most recent call last)",
      "\u001b[1;32m/home/cim/STRUCTURAL_MOTIFS/phospholite/train/debug.ipynb Cell 38\u001b[0m line \u001b[0;36m1\n\u001b[0;32m----> <a href='vscode-notebook-cell:/home/cim/STRUCTURAL_MOTIFS/phospholite/train/debug.ipynb#X65sZmlsZQ%3D%3D?line=0'>1</a>\u001b[0m y\n",
      "\u001b[0;31mNameError\u001b[0m: name 'y' is not defined"
     ]
    }
   ],
   "source": [
    "y"
   ]
  },
  {
   "cell_type": "code",
   "execution_count": 111,
   "metadata": {},
   "outputs": [
    {
     "name": "stdout",
     "output_type": "stream",
     "text": [
      "864\n",
      "865\n",
      "866\n",
      "867\n",
      "868\n",
      "870\n",
      "871\n"
     ]
    }
   ],
   "source": [
    "# How many values are out of bounds ? \n",
    "\n",
    "for i, idx in enumerate(y_index):\n",
    "    if int(idx) >= batch.num_nodes:\n",
    "        print(i)"
   ]
  },
  {
   "cell_type": "code",
   "execution_count": 117,
   "metadata": {},
   "outputs": [
    {
     "data": {
      "text/plain": [
       "'Q13491'"
      ]
     },
     "execution_count": 117,
     "metadata": {},
     "output_type": "execute_result"
    }
   ],
   "source": [
    "names[-1]"
   ]
  },
  {
   "cell_type": "code",
   "execution_count": 116,
   "metadata": {},
   "outputs": [
    {
     "data": {
      "text/plain": [
       "tensor(18724)"
      ]
     },
     "execution_count": 116,
     "metadata": {},
     "output_type": "execute_result"
    }
   ],
   "source": [
    "y_index[871]"
   ]
  },
  {
   "cell_type": "code",
   "execution_count": null,
   "metadata": {},
   "outputs": [],
   "source": [
    "# # Use `y_index` to only select the values that are in the mask\n",
    "y_hat = y_hat[y_index]"
   ]
  },
  {
   "cell_type": "markdown",
   "metadata": {},
   "source": [
    "### Track down the culprit and see where the mismatch is"
   ]
  },
  {
   "cell_type": "code",
   "execution_count": 119,
   "metadata": {},
   "outputs": [],
   "source": [
    "uid = \"Q13491\""
   ]
  },
  {
   "cell_type": "code",
   "execution_count": 120,
   "metadata": {},
   "outputs": [
    {
     "data": {
      "text/plain": [
       "{'idx': tensor([ 54.,  57.,  58., 296., 317., 319., 325., 327.,  43., 301., 326.]),\n",
       " 'y': tensor([1., 1., 1., 1., 1., 1., 1., 1., 1., 1., 1.])}"
      ]
     },
     "execution_count": 120,
     "metadata": {},
     "output_type": "execute_result"
    }
   ],
   "source": [
    "indexes_dict[uid]"
   ]
  },
  {
   "cell_type": "code",
   "execution_count": 122,
   "metadata": {},
   "outputs": [
    {
     "data": {
      "text/plain": [
       "(torch.Size([11]), torch.Size([11]))"
      ]
     },
     "execution_count": 122,
     "metadata": {},
     "output_type": "execute_result"
    }
   ],
   "source": [
    "indexes_dict[uid][\"idx\"].shape, indexes_dict[uid][\"y\"].shape"
   ]
  },
  {
   "cell_type": "code",
   "execution_count": 124,
   "metadata": {},
   "outputs": [],
   "source": [
    "from phosphosite.dataset import sequence_dict\n",
    "seq = sequence_dict[uid]"
   ]
  },
  {
   "cell_type": "code",
   "execution_count": 125,
   "metadata": {},
   "outputs": [
    {
     "data": {
      "text/plain": [
       "265"
      ]
     },
     "execution_count": 125,
     "metadata": {},
     "output_type": "execute_result"
    }
   ],
   "source": [
    "len(seq)"
   ]
  }
 ],
 "metadata": {
  "kernelspec": {
   "display_name": "phosphosite_ml",
   "language": "python",
   "name": "python3"
  },
  "language_info": {
   "codemirror_mode": {
    "name": "ipython",
    "version": 3
   },
   "file_extension": ".py",
   "mimetype": "text/x-python",
   "name": "python",
   "nbconvert_exporter": "python",
   "pygments_lexer": "ipython3",
   "version": "3.9.16"
  },
  "orig_nbformat": 4
 },
 "nbformat": 4,
 "nbformat_minor": 2
}
